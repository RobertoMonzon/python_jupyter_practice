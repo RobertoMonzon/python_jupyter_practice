{
 "cells": [
  {
   "cell_type": "markdown",
   "id": "32988b41",
   "metadata": {},
   "source": [
    "# Python using Jupyter Practice"
   ]
  },
  {
   "cell_type": "markdown",
   "id": "80d7555a",
   "metadata": {},
   "source": [
    "This is a notebook to practice the knowledge acquired in Jupyter"
   ]
  },
  {
   "cell_type": "markdown",
   "id": "b19c4eb5",
   "metadata": {},
   "source": [
    "## Basic Exercises"
   ]
  },
  {
   "cell_type": "markdown",
   "id": "cea8e22a",
   "metadata": {},
   "source": [
    "### Exercise 1: Calculate the multiplication and sum of two numbers"
   ]
  },
  {
   "cell_type": "markdown",
   "id": "9ed8683f",
   "metadata": {},
   "source": [
    "Given two integer numbers, return their product only if the product is equal to or lower than 1000. Otherwise, return their sum."
   ]
  },
  {
   "cell_type": "code",
   "execution_count": 2,
   "id": "03d40869",
   "metadata": {},
   "outputs": [],
   "source": [
    "number1 = 20\n",
    "number2 = 30"
   ]
  },
  {
   "cell_type": "code",
   "execution_count": 3,
   "id": "7a8ca847",
   "metadata": {},
   "outputs": [
    {
     "name": "stdout",
     "output_type": "stream",
     "text": [
      "50\n"
     ]
    }
   ],
   "source": [
    "print(number1 + number2)"
   ]
  },
  {
   "cell_type": "code",
   "execution_count": 4,
   "id": "ff7500ed",
   "metadata": {},
   "outputs": [],
   "source": [
    "number3 = 40\n",
    "number4 = 30"
   ]
  },
  {
   "cell_type": "code",
   "execution_count": 5,
   "id": "f31ee2c0",
   "metadata": {},
   "outputs": [
    {
     "name": "stdout",
     "output_type": "stream",
     "text": [
      "70\n"
     ]
    }
   ],
   "source": [
    "print(number3 + number4)"
   ]
  },
  {
   "cell_type": "markdown",
   "id": "81936b2a",
   "metadata": {},
   "source": [
    "### Exercise 2: Print the sum of the current number and the previous number"
   ]
  },
  {
   "cell_type": "markdown",
   "id": "7e1b9099",
   "metadata": {},
   "source": [
    "Write a program to iterate the first 10 numbers, and in each iteration, print the sum of the current and previous number."
   ]
  },
  {
   "cell_type": "code",
   "execution_count": 8,
   "id": "c2cc2033",
   "metadata": {
    "scrolled": false
   },
   "outputs": [
    {
     "name": "stdout",
     "output_type": "stream",
     "text": [
      "Current number: 1, Previous number: 0, Sum number: 1\n",
      "Current number: 2, Previous number: 1, Sum number: 3\n",
      "Current number: 3, Previous number: 2, Sum number: 5\n",
      "Current number: 4, Previous number: 3, Sum number: 7\n",
      "Current number: 5, Previous number: 4, Sum number: 9\n",
      "Current number: 6, Previous number: 5, Sum number: 11\n",
      "Current number: 7, Previous number: 6, Sum number: 13\n",
      "Current number: 8, Previous number: 7, Sum number: 15\n",
      "Current number: 9, Previous number: 8, Sum number: 17\n",
      "Current number: 10, Previous number: 9, Sum number: 19\n"
     ]
    }
   ],
   "source": [
    "var= 0\n",
    "for i in range(1,10+1):\n",
    "    sum = var + i\n",
    "    print(f\"Current number: {i}, Previous number: {var}, Sum number: {sum}\")\n",
    "    var = i"
   ]
  },
  {
   "cell_type": "markdown",
   "id": "fed7ef1c",
   "metadata": {},
   "source": [
    "### Exercise 3: Print characters from a string that are present at an even index number"
   ]
  },
  {
   "cell_type": "markdown",
   "id": "4758ca32",
   "metadata": {},
   "source": [
    "Write a program to accept a string from the user and display characters that are present at an even index number.\n",
    "\n",
    "For example, str = \"pynative\" so you should display ‘p’, ‘n’, ‘t’, ‘v’."
   ]
  },
  {
   "cell_type": "code",
   "execution_count": 21,
   "id": "4e2f5b0a",
   "metadata": {
    "scrolled": false
   },
   "outputs": [
    {
     "name": "stdout",
     "output_type": "stream",
     "text": [
      "Type a word Python\n",
      "y\n",
      "h\n",
      "n\n"
     ]
    }
   ],
   "source": [
    "string_=input(\"Type a word \")\n",
    "array_= list(string_)\n",
    "for i in range (1,len(string_),2):\n",
    "    print(array_[i])\n",
    "\n",
    "    "
   ]
  },
  {
   "cell_type": "markdown",
   "id": "73178b24",
   "metadata": {},
   "source": [
    "### Exercise 4: Remove first n characters from a string"
   ]
  },
  {
   "cell_type": "markdown",
   "id": "8966d444",
   "metadata": {},
   "source": [
    "Write a program to remove characters from a string starting from zero up to n and return a new string.\n",
    "\n",
    "For example:\n",
    "\n",
    "* remove_chars(\"pynative\", 4) so output must be tive. Here, we need to remove the first four characters from a string.\n",
    "* remove_chars(\"pynative\", 2) so output must be native. Here, we need to remove the first two characters from a string.\n",
    "\n",
    "Note: n must be less than the length of the string."
   ]
  },
  {
   "cell_type": "code",
   "execution_count": 35,
   "id": "6d0c117b",
   "metadata": {
    "scrolled": true
   },
   "outputs": [
    {
     "name": "stdout",
     "output_type": "stream",
     "text": [
      "Type the word you wanna slice python\n",
      "The length of your word is 6 , type the number of characters that you wanna remove 2\n",
      "Your new word is thon\n"
     ]
    }
   ],
   "source": [
    "word= input(\"Type the word you wanna slice \")\n",
    "n=input(f\"The length of your word is {len(word)} , type the number of characters that you wanna remove \")\n",
    "new_word = word[int(n):]\n",
    "print(f\"Your new word is {new_word}\")\n",
    "\n",
    "    "
   ]
  },
  {
   "cell_type": "markdown",
   "id": "7f3df616",
   "metadata": {},
   "source": [
    "### Exercise 5: Check if the first and last number of a list is the same"
   ]
  },
  {
   "cell_type": "markdown",
   "id": "f1675430",
   "metadata": {},
   "source": [
    "Write a function to return True if the first and last number of a given list is same. \n",
    "If numbers are different then return False."
   ]
  },
  {
   "cell_type": "code",
   "execution_count": 57,
   "id": "21bc840f",
   "metadata": {},
   "outputs": [
    {
     "name": "stdout",
     "output_type": "stream",
     "text": [
      "False True\n"
     ]
    }
   ],
   "source": [
    "def list_(a):\n",
    "    \n",
    "    first=a[0]\n",
    "    last=a[-1]\n",
    "\n",
    "    if first == last:\n",
    "        return True\n",
    "\n",
    "    else:\n",
    "        return False\n",
    "    \n",
    "x=list_([1,2,3,4])\n",
    "y=list_([1,2,3,1])\n",
    "\n",
    "print(x , y)\n"
   ]
  },
  {
   "cell_type": "markdown",
   "id": "10e45410",
   "metadata": {},
   "source": [
    "### Exercise 6: Display numbers divisible by 5 from a list"
   ]
  },
  {
   "cell_type": "markdown",
   "id": "1f9cc9cc",
   "metadata": {},
   "source": [
    "Iterate the given list of numbers and print only those numbers which are divisible by 5"
   ]
  },
  {
   "cell_type": "code",
   "execution_count": 60,
   "id": "b84b2d5a",
   "metadata": {},
   "outputs": [
    {
     "name": "stdout",
     "output_type": "stream",
     "text": [
      "[1, 5, 6, 10, 11, 15, 16, 20, 21, 26] \n",
      "\n",
      "5\n",
      "10\n",
      "15\n",
      "20\n"
     ]
    }
   ],
   "source": [
    "def list_div(list_):\n",
    "    print(f\"{list_} \\n\")\n",
    "    for i in list_:\n",
    "        if i % 5 == 0:\n",
    "            print(i)\n",
    "            \n",
    "list_div([1,5,6,10,11,15,16,20,21,26])\n",
    "    "
   ]
  },
  {
   "cell_type": "markdown",
   "id": "bf9fd3ec",
   "metadata": {},
   "source": [
    "### Exercise 7: Return the count of a given substring from a string"
   ]
  },
  {
   "cell_type": "markdown",
   "id": "0cb964d6",
   "metadata": {},
   "source": [
    "Write a program to find how many times substring “Emma” appears in the given string.\n",
    "\n",
    "Given: \"Emma is good developer. Emma is a writer\"\n"
   ]
  },
  {
   "cell_type": "code",
   "execution_count": 61,
   "id": "c139ac7c",
   "metadata": {},
   "outputs": [
    {
     "data": {
      "text/plain": [
       "'the word Emma appears 2 times'"
      ]
     },
     "execution_count": 61,
     "metadata": {},
     "output_type": "execute_result"
    }
   ],
   "source": [
    "def count_substring(string):\n",
    "    count=string.count(\"Emma\")\n",
    "    return f\"the word Emma appears {count} times\"\n",
    "\n",
    "count_substring(\"Emma is good developer. Emma is a writer\")"
   ]
  },
  {
   "cell_type": "markdown",
   "id": "7a7731e4",
   "metadata": {},
   "source": [
    "### Exercise 8: Print the following pattern"
   ]
  },
  {
   "cell_type": "markdown",
   "id": "a888fce2",
   "metadata": {},
   "source": [
    "* 1 \n",
    "* 2 2 \n",
    "* 3 3 3 \n",
    "* 4 4 4 4 \n",
    "* 5 5 5 5 5"
   ]
  },
  {
   "cell_type": "code",
   "execution_count": 82,
   "id": "1be3cb22",
   "metadata": {},
   "outputs": [
    {
     "name": "stdout",
     "output_type": "stream",
     "text": [
      "\n",
      "\n",
      "1 \n",
      "\n",
      "2 2 \n",
      "\n",
      "3 3 3 \n",
      "\n",
      "4 4 4 4 \n",
      "\n",
      "5 5 5 5 5 \n",
      "\n"
     ]
    }
   ],
   "source": [
    "def pyramid(num):\n",
    "    for n in range(num+1):\n",
    "        for i in range(n):\n",
    "            print (n, end=\" \") \n",
    "        print(\"\\n\")\n",
    "\n",
    "pyramid(5)\n",
    "            \n",
    "            "
   ]
  },
  {
   "cell_type": "markdown",
   "id": "af5f82a3",
   "metadata": {},
   "source": [
    "### Exercise 9: Check Palindrome Number"
   ]
  },
  {
   "cell_type": "markdown",
   "id": "fe73ff21",
   "metadata": {},
   "source": [
    "Write a program to check if the given number is a palindrome number.\n",
    "\n",
    "A palindrome number is a number that is the same after reverse. For example, 545, is the palindrome numbers"
   ]
  },
  {
   "cell_type": "code",
   "execution_count": 95,
   "id": "4f1ae389",
   "metadata": {},
   "outputs": [
    {
     "name": "stdout",
     "output_type": "stream",
     "text": [
      "545 is a palindrome\n",
      "542 is not a palindrome\n",
      "145 is not a palindrome\n",
      "242 is a palindrome\n"
     ]
    }
   ],
   "source": [
    "def palindrome(a):\n",
    "    a_string=str(a)\n",
    "    a_list=list(a_string)\n",
    "    a_list_reverse=a_list[::-1]\n",
    "    reverse= \"\".join(a_list_reverse)\n",
    "    b= int(reverse)\n",
    "    \n",
    "    if a == b:\n",
    "        print(f\"{a} is a palindrome\")\n",
    "    else:\n",
    "        print(f\"{a} is not a palindrome\")\n",
    "\n",
    "palindrome(545)\n",
    "palindrome(542)\n",
    "palindrome(145)\n",
    "palindrome(242)\n",
    "\n",
    "\n",
    "\n",
    "    "
   ]
  },
  {
   "cell_type": "markdown",
   "id": "342d2e27",
   "metadata": {},
   "source": [
    "### Exercise 10: Create a new list from two list using the following condition"
   ]
  },
  {
   "cell_type": "markdown",
   "id": "b35d51f1",
   "metadata": {},
   "source": [
    "reate a new list from two list using the following condition\n",
    "\n",
    "Given two list of numbers, write a program to create a new list such that the new list should contain odd numbers from the first list and even numbers from the second list."
   ]
  },
  {
   "cell_type": "code",
   "execution_count": 103,
   "id": "da438dc8",
   "metadata": {
    "scrolled": false
   },
   "outputs": [
    {
     "data": {
      "text/plain": [
       "[2, 4, 7, 9]"
      ]
     },
     "execution_count": 103,
     "metadata": {},
     "output_type": "execute_result"
    }
   ],
   "source": [
    "def mixing_lists(a,b):\n",
    "    new_list=[]\n",
    "    for i in (a):\n",
    "        if i % 2 == 0:\n",
    "            new_list.append(i)\n",
    "            \n",
    "    for j in (b):\n",
    "        if j % 2 != 0:\n",
    "            new_list.append(j)    \n",
    "            \n",
    "    return new_list\n",
    "    \n",
    "\n",
    "mixing_lists([1,2,3,4,5],[6,7,8,9,10])"
   ]
  },
  {
   "cell_type": "markdown",
   "id": "97a61be7",
   "metadata": {},
   "source": [
    "### Exercise 11: Write a Program to extract each digit from an integer in the reverse order."
   ]
  },
  {
   "cell_type": "markdown",
   "id": "09e1e517",
   "metadata": {},
   "source": [
    "For example, If the given int is 7536, the output shall be “6 3 5 7“, with a space separating the digits."
   ]
  },
  {
   "cell_type": "code",
   "execution_count": 104,
   "id": "32f56753",
   "metadata": {
    "scrolled": true
   },
   "outputs": [
    {
     "data": {
      "text/plain": [
       "'9 1 0 3 4 5'"
      ]
     },
     "execution_count": 104,
     "metadata": {},
     "output_type": "execute_result"
    }
   ],
   "source": [
    "def reverse_number(number):\n",
    "    number_into_string=str(number)\n",
    "    str_into_list=list(number_into_string)\n",
    "    reverse_str=str_into_list[::-1]\n",
    "    joined_str=\" \".join(reverse_str)\n",
    "    return joined_str\n",
    "\n",
    "reverse_number(543019)"
   ]
  },
  {
   "cell_type": "markdown",
   "id": "62e2bf8a",
   "metadata": {},
   "source": [
    "### Ejercicio 12: Calcule el impuesto sobre la renta para los ingresos determinados siguiendo las reglas siguientes"
   ]
  },
  {
   "cell_type": "code",
   "execution_count": 128,
   "id": "eceed3a5",
   "metadata": {},
   "outputs": [],
   "source": [
    "#+---------------+------------+\n",
    "#|Tacable income | Rate(in %) |\n",
    "#+---------------+------------+\n",
    "#|First $10,00   | 0          |\n",
    "#|Next $10,00    | 10         |\n",
    "#|The remaining  | 20         |\n",
    "#+---------------+------------+"
   ]
  },
  {
   "cell_type": "markdown",
   "id": "72af96d1",
   "metadata": {},
   "source": [
    "For example, suppose the taxable income is 45000, and the income tax payable is\n",
    "\n",
    "10000*0% + 10000*10%  + 25000*20% = $6000"
   ]
  },
  {
   "cell_type": "code",
   "execution_count": 119,
   "id": "6083a80c",
   "metadata": {},
   "outputs": [
    {
     "data": {
      "text/plain": [
       "6000.0"
      ]
     },
     "execution_count": 119,
     "metadata": {},
     "output_type": "execute_result"
    }
   ],
   "source": [
    "def income(money):\n",
    "    tax= 0\n",
    "    \n",
    "    if money <= 10000:\n",
    "        tax = 0\n",
    "\n",
    "        \n",
    "    elif money <= 20000:\n",
    "        x = money - 10000\n",
    "        tax = x * 10 / 100\n",
    "        \n",
    "    else:\n",
    "        tax = 0\n",
    "        tax = 10000 * 10 / 100\n",
    "        tax += (money - 20000) * 20 / 100\n",
    "        \n",
    "    return tax\n",
    "\n",
    "income(45000)"
   ]
  },
  {
   "cell_type": "markdown",
   "id": "3b4c18bd",
   "metadata": {},
   "source": [
    "### Exercise 13: Print multiplication table from 1 to 10"
   ]
  },
  {
   "cell_type": "code",
   "execution_count": 127,
   "id": "fa781332",
   "metadata": {},
   "outputs": [
    {
     "name": "stdout",
     "output_type": "stream",
     "text": [
      "1-2-3-4-5-6-7-8-9-10-\n",
      "\n",
      "2-4-6-8-10-12-14-16-18-20-\n",
      "\n",
      "3-6-9-12-15-18-21-24-27-30-\n",
      "\n",
      "4-8-12-16-20-24-28-32-36-40-\n",
      "\n",
      "5-10-15-20-25-30-35-40-45-50-\n",
      "\n",
      "6-12-18-24-30-36-42-48-54-60-\n",
      "\n",
      "7-14-21-28-35-42-49-56-63-70-\n",
      "\n",
      "8-16-24-32-40-48-56-64-72-80-\n",
      "\n",
      "9-18-27-36-45-54-63-72-81-90-\n",
      "\n",
      "10-20-30-40-50-60-70-80-90-100-\n",
      "\n"
     ]
    }
   ],
   "source": [
    "for num in range(1,10+1):\n",
    "    for mult in range(1,10+1):\n",
    "        print(num*mult,end=\"-\")\n",
    "    print(\"\\n\")"
   ]
  },
  {
   "cell_type": "markdown",
   "id": "e4136e36",
   "metadata": {},
   "source": [
    "### Exercise 14: Print a downward Half-Pyramid Pattern of Star (asterisk)"
   ]
  },
  {
   "cell_type": "code",
   "execution_count": 129,
   "id": "58dcea61",
   "metadata": {},
   "outputs": [],
   "source": [
    "# * * * * *  \n",
    "# * * * *  \n",
    "# * * *  \n",
    "# * *  \n",
    "# *"
   ]
  },
  {
   "cell_type": "code",
   "execution_count": 133,
   "id": "77d2af53",
   "metadata": {},
   "outputs": [
    {
     "name": "stdout",
     "output_type": "stream",
     "text": [
      "* * * * * \n",
      "\n",
      "* * * * \n",
      "\n",
      "* * * \n",
      "\n",
      "* * \n",
      "\n",
      "* \n",
      "\n",
      "\n",
      "\n"
     ]
    }
   ],
   "source": [
    "for i in range(6,0,-1):\n",
    "    for j in range (0,i-1):\n",
    "        print(\"*\",end=\" \")\n",
    "    print('\\n')"
   ]
  },
  {
   "cell_type": "markdown",
   "id": "c33a06af",
   "metadata": {},
   "source": [
    "### Exercise 15: Write a function called exponent(base, exp) that returns an int value of base raises to the power of exp."
   ]
  },
  {
   "cell_type": "markdown",
   "id": "ccfb3993",
   "metadata": {},
   "source": [
    "Note here exp is a non-negative integer, and the base is an integer."
   ]
  },
  {
   "cell_type": "code",
   "execution_count": 1,
   "id": "0e7e8197",
   "metadata": {},
   "outputs": [
    {
     "data": {
      "text/plain": [
       "625"
      ]
     },
     "execution_count": 1,
     "metadata": {},
     "output_type": "execute_result"
    }
   ],
   "source": [
    "def exponent(b,e):\n",
    "    while b > 0 and e > 0:\n",
    "        return b**e\n",
    "\n",
    "\n",
    "exponent(5,4)\n"
   ]
  },
  {
   "cell_type": "markdown",
   "id": "440fdf08",
   "metadata": {},
   "source": [
    "## Intermediate Exercises"
   ]
  },
  {
   "cell_type": "markdown",
   "id": "351e07e6",
   "metadata": {},
   "source": [
    "### Exercise 1: Reverse each word of a string"
   ]
  },
  {
   "cell_type": "markdown",
   "id": "495e7557",
   "metadata": {},
   "source": [
    "Given str = 'My Name is Jessa' Expect yM emaN si asseJ"
   ]
  },
  {
   "cell_type": "code",
   "execution_count": 20,
   "id": "4d2b7f3f",
   "metadata": {},
   "outputs": [
    {
     "data": {
      "text/plain": [
       "'yM emaN si asseJ'"
      ]
     },
     "execution_count": 20,
     "metadata": {},
     "output_type": "execute_result"
    }
   ],
   "source": [
    "def reverse_str(str):\n",
    "    split_string=str.split()\n",
    "\n",
    "    new_list=[]\n",
    "\n",
    "    for word in split_string:\n",
    "        new_word=word[::-1]\n",
    "        new_list.append(new_word)\n",
    "\n",
    "    new_str= \" \".join(new_list)\n",
    "    return new_str\n",
    "    \n",
    "    \n",
    "    \n",
    "\n",
    "reverse_str(\"My Name is Jessa\")\n",
    "    "
   ]
  },
  {
   "cell_type": "markdown",
   "id": "12b5b572",
   "metadata": {},
   "source": [
    "### Exercise 2: Read text file into a variable and replace all newlines with space"
   ]
  },
  {
   "cell_type": "code",
   "execution_count": 19,
   "id": "75d71b44",
   "metadata": {},
   "outputs": [],
   "source": [
    "#Given: Assume you have a following text file (sample.txt).\n",
    "\n",
    "#Line1\n",
    "#line2\n",
    "#line3\n",
    "#line4\n",
    "#line5"
   ]
  },
  {
   "cell_type": "code",
   "execution_count": 21,
   "id": "e811a553",
   "metadata": {},
   "outputs": [],
   "source": [
    "# Line1 line2 line3 line4 line5"
   ]
  },
  {
   "cell_type": "code",
   "execution_count": 31,
   "id": "2f2a1e83",
   "metadata": {},
   "outputs": [
    {
     "name": "stdout",
     "output_type": "stream",
     "text": [
      "Line1 line2 line3 line4 line5 \n"
     ]
    }
   ],
   "source": [
    "import os\n",
    "\n",
    "with open('C:\\\\Users\\\\ro_be\\\\Desktop\\\\sample.txt', 'r') as file:\n",
    "    data = file.read().replace('\\n', ' ')\n",
    "    print(data)\n"
   ]
  },
  {
   "cell_type": "code",
   "execution_count": null,
   "id": "dd785e2b",
   "metadata": {},
   "outputs": [],
   "source": []
  }
 ],
 "metadata": {
  "kernelspec": {
   "display_name": "Python 3 (ipykernel)",
   "language": "python",
   "name": "python3"
  },
  "language_info": {
   "codemirror_mode": {
    "name": "ipython",
    "version": 3
   },
   "file_extension": ".py",
   "mimetype": "text/x-python",
   "name": "python",
   "nbconvert_exporter": "python",
   "pygments_lexer": "ipython3",
   "version": "3.11.4"
  }
 },
 "nbformat": 4,
 "nbformat_minor": 5
}
